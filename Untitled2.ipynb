{
 "cells": [
  {
   "cell_type": "code",
   "execution_count": 1,
   "metadata": {
    "scrolled": true
   },
   "outputs": [
    {
     "name": "stdout",
     "output_type": "stream",
     "text": [
      "15\n",
      "3.0\n",
      "40\n",
      "8.0\n"
     ]
    }
   ],
   "source": [
    "class Calculator:\n",
    "    def __init__(self, val):\n",
    "        self.val = val\n",
    "        pass\n",
    "    def sum(self):\n",
    "        return sum(self.val)\n",
    "    def avg(self):\n",
    "        return sum(self.val) / len(self.val)\n",
    "\n",
    "cal1 = Calculator([1, 2, 3, 4, 5])\n",
    "print(cal1.sum())  # 15 출력\n",
    "print(cal1.avg())  # 3.0 출력\n",
    "\n",
    "cal2 = Calculator([6, 7, 8, 9, 10])\n",
    "print(cal2.sum())  # 40 출력\n",
    "print(cal2.avg())  # 8.0 출력\n"
   ]
  }
 ],
 "metadata": {
  "kernelspec": {
   "display_name": "Python 3",
   "language": "python",
   "name": "python3"
  },
  "language_info": {
   "codemirror_mode": {
    "name": "ipython",
    "version": 3
   },
   "file_extension": ".py",
   "mimetype": "text/x-python",
   "name": "python",
   "nbconvert_exporter": "python",
   "pygments_lexer": "ipython3",
   "version": "3.5.4"
  }
 },
 "nbformat": 4,
 "nbformat_minor": 2
}
