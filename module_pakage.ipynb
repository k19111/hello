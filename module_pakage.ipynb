{
 "cells": [
  {
   "cell_type": "markdown",
   "metadata": {},
   "source": [
    "# 모듈, 패키지 homework"
   ]
  },
  {
   "cell_type": "markdown",
   "metadata": {},
   "source": [
    "5-2-1\n",
    "\n",
    "1. 동일한 디렉토리에서 호출프로그램을 생성하여 import 처리함\n",
    "2. 동일 디렉토리가 아닐때, sys.path.append 시켜서 시스템 환경변수를 설정하여 import 시킴\n",
    "3. 동일한 파일내 처리가 아닐때 if __name__ == \"__main__\":  를 사용하여 내부 호출처리를 테스트 가능함."
   ]
  },
  {
   "cell_type": "markdown",
   "metadata": {},
   "source": [
    "5-2-2 \n",
    "\n",
    "동일한 디렉토리내 서브디렉토리에 파일이 위치해야 import 가능함.\n",
    "\n",
    "import sys\n",
    "\n",
    "sys.path.append(\".\\model\")\n",
    "\n",
    "from mymod import mysum\n",
    "\n",
    "mysum(1, 2)\n"
   ]
  },
  {
   "cell_type": "markdown",
   "metadata": {},
   "source": [
    "5-2-3\n",
    "\n",
    "'''\n",
    "import 하는 mymod 파일에 print 항목이 있기 때문에 바로 출력되었고,\n",
    "\n",
    "이를 해결하기 위해서  if __name__ == \"__main__\": 을 사용하여 동일한 파일내 main 항목이 있을때만\n",
    "\n",
    "해당구문이 호출할 수 있도록 처리함 \n",
    "'''"
   ]
  },
  {
   "cell_type": "markdown",
   "metadata": {},
   "source": [
    "5-3-1\n",
    "\n",
    "\n",
    "정답 3\n",
    "\n",
    "import game\n",
    "\n",
    "game.sound.echo.echo_test()\n",
    "\n",
    "게임디렉토리내 __init__.py 파일내 정의된 파일만 호출가능함."
   ]
  },
  {
   "cell_type": "markdown",
   "metadata": {},
   "source": [
    "5-3-2\n",
    "\n",
    "import 항목추가 후 실행\n",
    "\n",
    "from game.sound.echo import echo_test() \n",
    "\n",
    "reletive 사용시 점2개 (..) 사용\n",
    "\n",
    "from ..sound.echo import echo_test()"
   ]
  }
 ],
 "metadata": {
  "kernelspec": {
   "display_name": "Python 3",
   "language": "python",
   "name": "python3"
  },
  "language_info": {
   "codemirror_mode": {
    "name": "ipython",
    "version": 3
   },
   "file_extension": ".py",
   "mimetype": "text/x-python",
   "name": "python",
   "nbconvert_exporter": "python",
   "pygments_lexer": "ipython3",
   "version": "3.5.4"
  }
 },
 "nbformat": 4,
 "nbformat_minor": 2
}
